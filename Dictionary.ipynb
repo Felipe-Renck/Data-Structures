{
 "cells": [
  {
   "cell_type": "markdown",
   "metadata": {},
   "source": [
    "# Data Structures"
   ]
  },
  {
   "cell_type": "markdown",
   "metadata": {},
   "source": [
    "https://www.edureka.co/blog/data-structures-in-python/"
   ]
  },
  {
   "cell_type": "markdown",
   "metadata": {},
   "source": [
    "## Dictionary:\n",
    "\n",
    "#### Dictionaries are used to store key-value pairs. To understand better, think of a phone directory where hundreds and thousands of names and their corresponding numbers have been added. Now the constant values here are Name and the Phone Numbers which are called as the keys. And the various names and phone numbers are the values that have been fed to the keys. If you access the values of the keys, you will obtain all the names and phone numbers. So that is what a key-value pair is."
   ]
  },
  {
   "cell_type": "code",
   "execution_count": null,
   "metadata": {},
   "outputs": [],
   "source": [
    "# Creating a dictionary\n",
    "my_dict = {} #empty dictionary\n",
    "print(my_dict)\n",
    "my_dict = {1: 'Python', 2: 'Java'} #dictionary with elements\n",
    "print(my_dict)"
   ]
  },
  {
   "cell_type": "code",
   "execution_count": null,
   "metadata": {},
   "outputs": [],
   "source": [
    "# Changing and adding key, value pairs\n",
    "my_dict = {'First': 'Python', 'Second': 'Java'}\n",
    "print(my_dict)\n",
    "my_dict['Second'] = 'C++' #changing element\n",
    "print(my_dict)\n",
    "my_dict['Third'] = 'Ruby' #adding key-value pair\n",
    "print(my_dict)"
   ]
  },
  {
   "cell_type": "code",
   "execution_count": null,
   "metadata": {},
   "outputs": [],
   "source": [
    "# Deleting key, value pairs\n",
    "my_dict = {'First': 'Python', 'Second': 'Java', 'Third': 'Ruby'}\n",
    "a = my_dict.pop('Third') #pop element\n",
    "print('Value:', a)\n",
    "print('Dictionary:', my_dict)\n",
    "b = my_dict.popitem() #pop the key-value pair\n",
    "print('Key, value pair:', b)\n",
    "print('Dictionary', my_dict)\n",
    "my_dict.clear() #empty dictionary\n",
    "print('n', my_dict)"
   ]
  },
  {
   "cell_type": "code",
   "execution_count": null,
   "metadata": {},
   "outputs": [],
   "source": [
    "# Accessing elements\n",
    "my_dict = {'First': 'Python', 'Second': 'Java'}\n",
    "print(my_dict['First']) #access elements using keys\n",
    "print(my_dict.get('Second'))"
   ]
  },
  {
   "cell_type": "code",
   "execution_count": null,
   "metadata": {},
   "outputs": [],
   "source": [
    "# Other functions\n",
    "my_dict = {'First': 'Python', 'Second': 'Java', 'Third': 'Ruby'}\n",
    "print(my_dict.keys()) #get keys\n",
    "print(my_dict.values()) #get values\n",
    "print(my_dict.items()) #get key-value pairs\n",
    "print(my_dict.get('First'))"
   ]
  }
 ],
 "metadata": {
  "language_info": {
   "name": "python"
  },
  "orig_nbformat": 4
 },
 "nbformat": 4,
 "nbformat_minor": 2
}
